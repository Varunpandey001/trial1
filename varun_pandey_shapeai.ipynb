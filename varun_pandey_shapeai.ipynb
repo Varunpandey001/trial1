{
  "nbformat": 4,
  "nbformat_minor": 0,
  "metadata": {
    "colab": {
      "name": "varun_pandey@shapeai.ipynb",
      "provenance": [],
      "collapsed_sections": [],
      "authorship_tag": "ABX9TyNfCRRC6tN3kqwaGl79JY1x",
      "include_colab_link": true
    },
    "kernelspec": {
      "name": "python3",
      "display_name": "Python 3"
    }
  },
  "cells": [
    {
      "cell_type": "markdown",
      "metadata": {
        "id": "view-in-github",
        "colab_type": "text"
      },
      "source": [
        "<a href=\"https://colab.research.google.com/github/Varunpandey001/trial1/blob/branch1/varun_pandey_shapeai.ipynb\" target=\"_parent\"><img src=\"https://colab.research.google.com/assets/colab-badge.svg\" alt=\"Open In Colab\"/></a>"
      ]
    },
    {
      "cell_type": "code",
      "metadata": {
        "colab": {
          "base_uri": "https://localhost:8080/"
        },
        "id": "5ZGDSJ15KvFQ",
        "outputId": "505f445b-b140-42f8-b220-1fed413dfcd3"
      },
      "source": [
        "!pip install pandas\n",
        "!pip install numpy\n"
      ],
      "execution_count": 40,
      "outputs": [
        {
          "output_type": "stream",
          "text": [
            "Requirement already satisfied: pandas in /usr/local/lib/python3.6/dist-packages (1.1.5)\n",
            "Requirement already satisfied: pytz>=2017.2 in /usr/local/lib/python3.6/dist-packages (from pandas) (2018.9)\n",
            "Requirement already satisfied: python-dateutil>=2.7.3 in /usr/local/lib/python3.6/dist-packages (from pandas) (2.8.1)\n",
            "Requirement already satisfied: numpy>=1.15.4 in /usr/local/lib/python3.6/dist-packages (from pandas) (1.19.5)\n",
            "Requirement already satisfied: six>=1.5 in /usr/local/lib/python3.6/dist-packages (from python-dateutil>=2.7.3->pandas) (1.15.0)\n",
            "Requirement already satisfied: numpy in /usr/local/lib/python3.6/dist-packages (1.19.5)\n"
          ],
          "name": "stdout"
        }
      ]
    },
    {
      "cell_type": "code",
      "metadata": {
        "id": "aUa8oYyCSnJy"
      },
      "source": [
        "import numpy as np\n",
        "import pandas as pd"
      ],
      "execution_count": 41,
      "outputs": []
    },
    {
      "cell_type": "markdown",
      "metadata": {
        "id": "f2xW-fk5MIEb"
      },
      "source": [
        "Here we have imported the 2 libraries for using fumctions and packages present inside them."
      ]
    },
    {
      "cell_type": "code",
      "metadata": {
        "id": "6zZrzkpmMRT2"
      },
      "source": [
        "from sklearn.datasets import load_iris\n",
        "iris_dataset=load_iris()"
      ],
      "execution_count": 42,
      "outputs": []
    },
    {
      "cell_type": "markdown",
      "metadata": {
        "id": "zq4nSBjmNeJJ"
      },
      "source": [
        "Importing the iris dataset which we are going to use to train and test our algo.\n"
      ]
    },
    {
      "cell_type": "code",
      "metadata": {
        "colab": {
          "base_uri": "https://localhost:8080/"
        },
        "id": "fYUTcyN4NmAP",
        "outputId": "cf7288c0-70f5-4c3b-fa1b-39cc0c0f0770"
      },
      "source": [
        "print(\"Keys os iris dataset\\n{}\".format(iris_dataset.keys()))"
      ],
      "execution_count": 43,
      "outputs": [
        {
          "output_type": "stream",
          "text": [
            "Keys os iris dataset\n",
            "dict_keys(['data', 'target', 'target_names', 'DESCR', 'feature_names', 'filename'])\n"
          ],
          "name": "stdout"
        }
      ]
    },
    {
      "cell_type": "markdown",
      "metadata": {
        "id": "Kxe_Y1auOSNz"
      },
      "source": [
        "Displaying the key values of iris_dataset which is just like a dictionary."
      ]
    },
    {
      "cell_type": "code",
      "metadata": {
        "colab": {
          "base_uri": "https://localhost:8080/"
        },
        "id": "hvseHS83OmI0",
        "outputId": "2c11f267-8053-4b26-d4e3-bd0a2b3b8122"
      },
      "source": [
        "print(iris_dataset['DESCR'][:200])"
      ],
      "execution_count": 44,
      "outputs": [
        {
          "output_type": "stream",
          "text": [
            ".. _iris_dataset:\n",
            "\n",
            "Iris plants dataset\n",
            "--------------------\n",
            "\n",
            "**Data Set Characteristics:**\n",
            "\n",
            "    :Number of Instances: 150 (50 in each of three classes)\n",
            "    :Number of Attributes: 4 numeric, predictive\n"
          ],
          "name": "stdout"
        }
      ]
    },
    {
      "cell_type": "markdown",
      "metadata": {
        "id": "k36yP5K6O47N"
      },
      "source": [
        "To display DESCR(description)(a String) of iris_dataset"
      ]
    },
    {
      "cell_type": "code",
      "metadata": {
        "colab": {
          "base_uri": "https://localhost:8080/"
        },
        "id": "1rmN4Wf4PoXl",
        "outputId": "f6078431-d395-4b05-8a1c-0aba192f2c93"
      },
      "source": [
        "print(\"Target Names:{}\".format(iris_dataset['target_names']))"
      ],
      "execution_count": 45,
      "outputs": [
        {
          "output_type": "stream",
          "text": [
            "Target Names:['setosa' 'versicolor' 'virginica']\n"
          ],
          "name": "stdout"
        }
      ]
    },
    {
      "cell_type": "markdown",
      "metadata": {
        "id": "PWMi8bUyQIzo"
      },
      "source": [
        "To display target names of flower species."
      ]
    },
    {
      "cell_type": "code",
      "metadata": {
        "colab": {
          "base_uri": "https://localhost:8080/"
        },
        "id": "CHrh2MUEQNfU",
        "outputId": "f31e57b5-5088-4ec1-b593-7266eb325922"
      },
      "source": [
        "print(\"Feature Names:{}\".format(iris_dataset['feature_names']))"
      ],
      "execution_count": 46,
      "outputs": [
        {
          "output_type": "stream",
          "text": [
            "Feature Names:['sepal length (cm)', 'sepal width (cm)', 'petal length (cm)', 'petal width (cm)']\n"
          ],
          "name": "stdout"
        }
      ]
    },
    {
      "cell_type": "markdown",
      "metadata": {
        "id": "rxHWOXJFQg54"
      },
      "source": [
        "Display features of species"
      ]
    },
    {
      "cell_type": "code",
      "metadata": {
        "colab": {
          "base_uri": "https://localhost:8080/"
        },
        "id": "dTlXTCl5QzYG",
        "outputId": "dc46b72c-51a3-4209-d4a2-148f33e808ba"
      },
      "source": [
        "print(\"Type of data:{}\".format(type(iris_dataset['data'])))"
      ],
      "execution_count": 47,
      "outputs": [
        {
          "output_type": "stream",
          "text": [
            "Type of data:<class 'numpy.ndarray'>\n"
          ],
          "name": "stdout"
        }
      ]
    },
    {
      "cell_type": "code",
      "metadata": {
        "colab": {
          "base_uri": "https://localhost:8080/"
        },
        "id": "5EDg8ey1RVyi",
        "outputId": "f975eac7-6b06-42a8-8cea-1b4ae02970d4"
      },
      "source": [
        "print(\"Shape of data:{}\".format(iris_dataset['data'].shape))"
      ],
      "execution_count": 48,
      "outputs": [
        {
          "output_type": "stream",
          "text": [
            "Shape of data:(150, 4)\n"
          ],
          "name": "stdout"
        }
      ]
    },
    {
      "cell_type": "code",
      "metadata": {
        "colab": {
          "base_uri": "https://localhost:8080/"
        },
        "id": "bwv7kkuDRxPr",
        "outputId": "ad6febd3-5aa2-46d2-bb2c-a12189c8d987"
      },
      "source": [
        "print(\"Display first 5 data points\\n{}\".format(iris_dataset['data'][:5]))"
      ],
      "execution_count": 49,
      "outputs": [
        {
          "output_type": "stream",
          "text": [
            "Display first 5 data points\n",
            "[[5.1 3.5 1.4 0.2]\n",
            " [4.9 3.  1.4 0.2]\n",
            " [4.7 3.2 1.3 0.2]\n",
            " [4.6 3.1 1.5 0.2]\n",
            " [5.  3.6 1.4 0.2]]\n"
          ],
          "name": "stdout"
        }
      ]
    },
    {
      "cell_type": "code",
      "metadata": {
        "colab": {
          "base_uri": "https://localhost:8080/"
        },
        "id": "yEwYw-nWWiDX",
        "outputId": "cc4a37d5-6539-4c63-9a23-b8421ed1c0b2"
      },
      "source": [
        "print(\"Shape of target\\n{}\".format(iris_dataset['target'].shape))"
      ],
      "execution_count": 50,
      "outputs": [
        {
          "output_type": "stream",
          "text": [
            "Shape of target\n",
            "(150,)\n"
          ],
          "name": "stdout"
        }
      ]
    },
    {
      "cell_type": "code",
      "metadata": {
        "colab": {
          "base_uri": "https://localhost:8080/"
        },
        "id": "UOV6RygpVcuj",
        "outputId": "d5705cab-f836-4190-f18c-13603fee4ece"
      },
      "source": [
        "print(\"Target\\n{}\".format(iris_dataset['target']))"
      ],
      "execution_count": 51,
      "outputs": [
        {
          "output_type": "stream",
          "text": [
            "Target\n",
            "[0 0 0 0 0 0 0 0 0 0 0 0 0 0 0 0 0 0 0 0 0 0 0 0 0 0 0 0 0 0 0 0 0 0 0 0 0\n",
            " 0 0 0 0 0 0 0 0 0 0 0 0 0 1 1 1 1 1 1 1 1 1 1 1 1 1 1 1 1 1 1 1 1 1 1 1 1\n",
            " 1 1 1 1 1 1 1 1 1 1 1 1 1 1 1 1 1 1 1 1 1 1 1 1 1 1 2 2 2 2 2 2 2 2 2 2 2\n",
            " 2 2 2 2 2 2 2 2 2 2 2 2 2 2 2 2 2 2 2 2 2 2 2 2 2 2 2 2 2 2 2 2 2 2 2 2 2\n",
            " 2 2]\n"
          ],
          "name": "stdout"
        }
      ]
    },
    {
      "cell_type": "markdown",
      "metadata": {
        "id": "8c7dz3nhWaxC"
      },
      "source": [
        "Displaying target via their codes assigned to them."
      ]
    },
    {
      "cell_type": "code",
      "metadata": {
        "id": "xxfdkhXkWfk5"
      },
      "source": [
        "from sklearn.model_selection import train_test_split\n",
        "X_train,X_test,y_train,y_test=train_test_split(iris_dataset['data'],iris_dataset['target'],random_state=0)"
      ],
      "execution_count": 52,
      "outputs": []
    },
    {
      "cell_type": "markdown",
      "metadata": {
        "id": "btUllVhGyzPA"
      },
      "source": [
        "Splitting the data set into 75% and 25% for training and testing respectively and thereby storing it in variables\n"
      ]
    },
    {
      "cell_type": "code",
      "metadata": {
        "colab": {
          "base_uri": "https://localhost:8080/"
        },
        "id": "sbl4LIWRWSXr",
        "outputId": "d794a61f-7206-4e38-c64e-1ff64f6eec22"
      },
      "source": [
        "print(\"X_train shape:{}\".format(X_train.shape))\n",
        "print(\"X_test shape:{}\".format(X_test.shape))\n",
        "print(\"y_train shape:{}\".format(y_train.shape))\n",
        "print(\"y_test shape:{}\".format(y_test.shape))"
      ],
      "execution_count": 53,
      "outputs": [
        {
          "output_type": "stream",
          "text": [
            "X_train shape:(112, 4)\n",
            "X_test shape:(38, 4)\n",
            "y_train shape:(112,)\n",
            "y_test shape:(38,)\n"
          ],
          "name": "stdout"
        }
      ]
    },
    {
      "cell_type": "code",
      "metadata": {
        "id": "7qxqi9eE0AJb"
      },
      "source": [
        "from sklearn.neighbors import KNeighborsClassifier\n",
        "knn=KNeighborsClassifier(n_neighbors=1)"
      ],
      "execution_count": 54,
      "outputs": []
    },
    {
      "cell_type": "markdown",
      "metadata": {
        "id": "JjfDrUpk1Khz"
      },
      "source": [
        "Creating a algo who can test and predict by itself"
      ]
    },
    {
      "cell_type": "code",
      "metadata": {
        "colab": {
          "base_uri": "https://localhost:8080/"
        },
        "id": "R2W7-wKY1Uwj",
        "outputId": "028d804d-edbe-463e-9d3b-218713e2d81e"
      },
      "source": [
        "knn.fit(X_train,y_train)\n"
      ],
      "execution_count": 55,
      "outputs": [
        {
          "output_type": "execute_result",
          "data": {
            "text/plain": [
              "KNeighborsClassifier(algorithm='auto', leaf_size=30, metric='minkowski',\n",
              "                     metric_params=None, n_jobs=None, n_neighbors=1, p=2,\n",
              "                     weights='uniform')"
            ]
          },
          "metadata": {
            "tags": []
          },
          "execution_count": 55
        }
      ]
    },
    {
      "cell_type": "markdown",
      "metadata": {
        "id": "vPnsyUVY1m4J"
      },
      "source": [
        "Train the model on train data points"
      ]
    },
    {
      "cell_type": "code",
      "metadata": {
        "colab": {
          "base_uri": "https://localhost:8080/"
        },
        "id": "1N2X3zlc1s_z",
        "outputId": "5b2a8519-3fc5-4a0d-86c2-9d0cd6fbad8c"
      },
      "source": [
        "X_new=np.array([[2,4,3,2]])\n",
        "print(\"X_new.shape:{}\".format(X_new.shape))"
      ],
      "execution_count": 39,
      "outputs": [
        {
          "output_type": "stream",
          "text": [
            "X_new.shape:(1, 4)\n"
          ],
          "name": "stdout"
        }
      ]
    },
    {
      "cell_type": "code",
      "metadata": {
        "colab": {
          "base_uri": "https://localhost:8080/"
        },
        "id": "zh778T-02kdb",
        "outputId": "0405f068-022e-46a3-b410-f7d3d877057f"
      },
      "source": [
        "prediction=knn.predict(X_new)\n",
        "print(\"Prediction:{}\".format(prediction))\n",
        "print(\"Predicted target name:{}\".format(iris_dataset['target_names'][prediction]))"
      ],
      "execution_count": 57,
      "outputs": [
        {
          "output_type": "stream",
          "text": [
            "Prediction:[1]\n",
            "Predicted target name:['versicolor']\n"
          ],
          "name": "stdout"
        }
      ]
    },
    {
      "cell_type": "code",
      "metadata": {
        "id": "JsEUXFdf3V15"
      },
      "source": [
        "#Testing for the above data point"
      ],
      "execution_count": 59,
      "outputs": []
    },
    {
      "cell_type": "code",
      "metadata": {
        "colab": {
          "base_uri": "https://localhost:8080/"
        },
        "id": "1uevZ1L83u0q",
        "outputId": "aee5ea57-5d05-4e9f-9f8f-c5f8dac45532"
      },
      "source": [
        "y_pred=knn.predict(X_test)\n",
        "print(\"Test set predictions:\\n{}\".format(y_pred))"
      ],
      "execution_count": 60,
      "outputs": [
        {
          "output_type": "stream",
          "text": [
            "Test set predictions:\n",
            "[2 1 0 2 0 2 0 1 1 1 2 1 1 1 1 0 1 1 0 0 2 1 0 0 2 0 0 1 1 0 2 1 0 2 2 1 0\n",
            " 2]\n"
          ],
          "name": "stdout"
        }
      ]
    },
    {
      "cell_type": "code",
      "metadata": {
        "colab": {
          "base_uri": "https://localhost:8080/"
        },
        "id": "bOdu6Oy34H74",
        "outputId": "e722e04f-77fb-4a5d-f618-abb19f19be07"
      },
      "source": [
        "#Calculating percent accuracy\n",
        "print(\"test score {}\".format((np.mean(y_pred==y_test)*100)))"
      ],
      "execution_count": 63,
      "outputs": [
        {
          "output_type": "stream",
          "text": [
            "test score 97.36842105263158\n"
          ],
          "name": "stdout"
        }
      ]
    },
    {
      "cell_type": "code",
      "metadata": {
        "id": "O_PKT8Mj4kUR"
      },
      "source": [
        ""
      ],
      "execution_count": null,
      "outputs": []
    }
  ]
}